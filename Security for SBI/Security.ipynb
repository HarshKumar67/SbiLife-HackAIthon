{
 "cells": [
  {
   "cell_type": "code",
   "execution_count": 1,
   "id": "e876fa0e",
   "metadata": {},
   "outputs": [
    {
     "name": "stdout",
     "output_type": "stream",
     "text": [
      "Defaulting to user installation because normal site-packages is not writeable\n",
      "Requirement already satisfied: flask in c:\\programdata\\anaconda3\\lib\\site-packages (2.2.5)\n",
      "Collecting flask-jwt-extended\n",
      "  Downloading Flask_JWT_Extended-4.7.1-py2.py3-none-any.whl.metadata (3.8 kB)\n",
      "Collecting pycryptodome\n",
      "  Downloading pycryptodome-3.21.0-cp36-abi3-win_amd64.whl.metadata (3.4 kB)\n"
     ]
    },
    {
     "name": "stderr",
     "output_type": "stream",
     "text": [
      "ERROR: Could not find a version that satisfies the requirement smtplib (from versions: none)\n",
      "ERROR: No matching distribution found for smtplib\n"
     ]
    }
   ],
   "source": [
    "!pip install flask flask-jwt-extended pycryptodome smtplib\n"
   ]
  },
  {
   "cell_type": "code",
   "execution_count": 2,
   "id": "26bf17e3",
   "metadata": {},
   "outputs": [
    {
     "name": "stdout",
     "output_type": "stream",
     "text": [
      "Defaulting to user installation because normal site-packages is not writeable\n",
      "Collecting pycryptodome\n",
      "  Using cached pycryptodome-3.21.0-cp36-abi3-win_amd64.whl.metadata (3.4 kB)\n",
      "Downloading pycryptodome-3.21.0-cp36-abi3-win_amd64.whl (1.8 MB)\n",
      "   ---------------------------------------- 0.0/1.8 MB ? eta -:--:--\n",
      "   ---------------------------------------- 0.0/1.8 MB 330.3 kB/s eta 0:00:06\n",
      "    --------------------------------------- 0.0/1.8 MB 393.8 kB/s eta 0:00:05\n",
      "   ------ --------------------------------- 0.3/1.8 MB 2.2 MB/s eta 0:00:01\n",
      "   ---------------- ----------------------- 0.7/1.8 MB 4.3 MB/s eta 0:00:01\n",
      "   ------------------------ --------------- 1.1/1.8 MB 5.0 MB/s eta 0:00:01\n",
      "   -------------------------------------- - 1.7/1.8 MB 6.5 MB/s eta 0:00:01\n",
      "   ---------------------------------------- 1.8/1.8 MB 6.1 MB/s eta 0:00:00\n",
      "Installing collected packages: pycryptodome\n",
      "Successfully installed pycryptodome-3.21.0\n"
     ]
    }
   ],
   "source": [
    "!pip install pycryptodome\n"
   ]
  },
  {
   "cell_type": "code",
   "execution_count": 3,
   "id": "8e69eeed",
   "metadata": {},
   "outputs": [
    {
     "name": "stdout",
     "output_type": "stream",
     "text": [
      "🔒 Encrypted Policy: 6SHjTUgz/ZxPGAIEAHApcJZXjSw7/zPwSQUvQlm7adQw8GNY9ONcFNU4ZJZ1n87NOOraRA4QUyxXu60tqeefe6fV\n",
      "🔓 Decrypted Policy: Policy ID: 12345, Premium: ₹5000, Status: Active\n"
     ]
    }
   ],
   "source": [
    "from Crypto.Cipher import AES\n",
    "from Crypto.Random import get_random_bytes\n",
    "import base64\n",
    "\n",
    "# Generate a secret key (should be securely stored)\n",
    "SECRET_KEY = get_random_bytes(32)  # AES-256 requires a 32-byte key\n",
    "\n",
    "# Function to encrypt data\n",
    "def encrypt_data(plain_text):\n",
    "    cipher = AES.new(SECRET_KEY, AES.MODE_EAX)\n",
    "    nonce = cipher.nonce\n",
    "    ciphertext, tag = cipher.encrypt_and_digest(plain_text.encode('utf-8'))\n",
    "    return base64.b64encode(nonce + ciphertext).decode('utf-8')\n",
    "\n",
    "# Function to decrypt data\n",
    "def decrypt_data(encrypted_text):\n",
    "    encrypted_bytes = base64.b64decode(encrypted_text)\n",
    "    nonce = encrypted_bytes[:16]\n",
    "    ciphertext = encrypted_bytes[16:]\n",
    "    cipher = AES.new(SECRET_KEY, AES.MODE_EAX, nonce=nonce)\n",
    "    return cipher.decrypt(ciphertext).decode('utf-8')\n",
    "\n",
    "# Example Usage: Encrypt & Decrypt Policy Details\n",
    "policy_data = \"Policy ID: 12345, Premium: ₹5000, Status: Active\"\n",
    "encrypted_policy = encrypt_data(policy_data)\n",
    "decrypted_policy = decrypt_data(encrypted_policy)\n",
    "\n",
    "print(f\"🔒 Encrypted Policy: {encrypted_policy}\")\n",
    "print(f\"🔓 Decrypted Policy: {decrypted_policy}\")\n"
   ]
  }
 ],
 "metadata": {
  "kernelspec": {
   "display_name": "Python 3 (ipykernel)",
   "language": "python",
   "name": "python3"
  },
  "language_info": {
   "codemirror_mode": {
    "name": "ipython",
    "version": 3
   },
   "file_extension": ".py",
   "mimetype": "text/x-python",
   "name": "python",
   "nbconvert_exporter": "python",
   "pygments_lexer": "ipython3",
   "version": "3.11.7"
  }
 },
 "nbformat": 4,
 "nbformat_minor": 5
}
