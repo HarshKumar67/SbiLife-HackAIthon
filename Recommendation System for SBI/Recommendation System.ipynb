{
 "cells": [
  {
   "cell_type": "markdown",
   "id": "a6d8c91b",
   "metadata": {},
   "source": [
    "###The policies will be selected based on predefined categories like:\n",
    "\n",
    "1. Term Life Insurance Plus (for high-income, married individuals with dependents)\n",
    "2. Smart Health Elite (for those with high medical expenses)\n",
    "3. Wealth Builder Pro (for high-income investors)\n",
    "4. Child Future Secure (for parents)\n",
    "5. Retirement Comfort Plus (for individuals above 50)\n",
    "6. Smart Income Shield (for middle-income individuals with low savings)"
   ]
  },
  {
   "cell_type": "markdown",
   "id": "475494af",
   "metadata": {},
   "source": [
    "`**Content-Based Filtering**` : matching users to policies based on their attributes.\n",
    "\n",
    "`**Collaborative Filtering**` : using customer behavior patterns to refine recommendations."
   ]
  },
  {
   "cell_type": "code",
   "execution_count": 2,
   "id": "e8490d4d",
   "metadata": {},
   "outputs": [
    {
     "name": "stdout",
     "output_type": "stream",
     "text": [
      "Recommended Policy: Term Life Insurance Plus\n"
     ]
    }
   ],
   "source": [
    "import pandas as pd\n",
    "from sklearn.preprocessing import LabelEncoder, MinMaxScaler\n",
    "from sklearn.neighbors import NearestNeighbors\n",
    "\n",
    "# Load the dataset\n",
    "file_path = \"/mnt/data/updated_propensity_score_dataset.csv\"\n",
    "df = pd.read_csv('Recommendation.csv')\n",
    "\n",
    "# Select relevant features for recommendation\n",
    "features = ['Age', 'Annual_Income', 'Credit_Score', 'Expenses', 'Marital_Status']\n",
    "\n",
    "# Encode categorical features\n",
    "encoder = LabelEncoder()\n",
    "df['Marital_Status'] = encoder.fit_transform(df['Marital_Status'])\n",
    "\n",
    "# Normalize numerical features\n",
    "scaler = MinMaxScaler()\n",
    "df[features] = scaler.fit_transform(df[features])\n",
    "\n",
    "# Train KNN model for recommendations\n",
    "knn = NearestNeighbors(n_neighbors=5, metric='euclidean')\n",
    "knn.fit(df[features])\n",
    "\n",
    "def recommend_policy(user_data):\n",
    "    \"\"\"Recommend a policy for a new user based on similarity.\"\"\"\n",
    "    user_df = pd.DataFrame([user_data], columns=features)\n",
    "    user_df[features] = scaler.transform(user_df)\n",
    "    distances, indices = knn.kneighbors(user_df)\n",
    "    recommended_policies = df.iloc[indices[0]]['Recommended_Policy'].value_counts().index[0]\n",
    "    return recommended_policies\n",
    "\n",
    "# Example user input\n",
    "user_input = {\n",
    "    'Age': 35,\n",
    "    'Annual_Income': 800000,\n",
    "    'Credit_Score': 720,\n",
    "    'Expenses': 200000,\n",
    "    'Marital_Status': 'Married'\n",
    "}\n",
    "user_input['Marital_Status'] = encoder.transform([user_input['Marital_Status']])[0]\n",
    "\n",
    "# Get recommendation\n",
    "recommended_policy = recommend_policy(user_input)\n",
    "print(\"Recommended Policy:\", recommended_policy)\n"
   ]
  },
  {
   "cell_type": "code",
   "execution_count": null,
   "id": "1dce5b06",
   "metadata": {},
   "outputs": [],
   "source": []
  }
 ],
 "metadata": {
  "kernelspec": {
   "display_name": "Python 3 (ipykernel)",
   "language": "python",
   "name": "python3"
  },
  "language_info": {
   "codemirror_mode": {
    "name": "ipython",
    "version": 3
   },
   "file_extension": ".py",
   "mimetype": "text/x-python",
   "name": "python",
   "nbconvert_exporter": "python",
   "pygments_lexer": "ipython3",
   "version": "3.11.7"
  }
 },
 "nbformat": 4,
 "nbformat_minor": 5
}
